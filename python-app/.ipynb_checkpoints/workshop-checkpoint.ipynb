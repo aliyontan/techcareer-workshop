{
 "cells": [
  {
   "cell_type": "code",
   "execution_count": 4,
   "metadata": {},
   "outputs": [],
   "source": [
    "import pandas as pd\n"
   ]
  },
  {
   "cell_type": "code",
   "execution_count": 5,
   "metadata": {},
   "outputs": [
    {
     "name": "stdout",
     "output_type": "stream",
     "text": [
      "Collecting openpyxl\n",
      "  Downloading openpyxl-3.1.5-py2.py3-none-any.whl (250 kB)\n",
      "\u001b[2K     \u001b[90m━━━━━━━━━━━━━━━━━━━━━━━━━━━━━━━━━━━━━━━\u001b[0m \u001b[32m250.9/250.9 kB\u001b[0m \u001b[31m1.2 MB/s\u001b[0m eta \u001b[36m0:00:00\u001b[0m00:01\u001b[0m00:01\u001b[0m\n",
      "\u001b[?25hCollecting et-xmlfile\n",
      "  Downloading et_xmlfile-2.0.0-py3-none-any.whl (18 kB)\n",
      "Installing collected packages: et-xmlfile, openpyxl\n",
      "Successfully installed et-xmlfile-2.0.0 openpyxl-3.1.5\n",
      "\u001b[33mWARNING: Running pip as the 'root' user can result in broken permissions and conflicting behaviour with the system package manager. It is recommended to use a virtual environment instead: https://pip.pypa.io/warnings/venv\u001b[0m\u001b[33m\n",
      "\u001b[0m\n",
      "\u001b[1m[\u001b[0m\u001b[34;49mnotice\u001b[0m\u001b[1;39;49m]\u001b[0m\u001b[39;49m A new release of pip is available: \u001b[0m\u001b[31;49m23.0.1\u001b[0m\u001b[39;49m -> \u001b[0m\u001b[32;49m24.3.1\u001b[0m\n",
      "\u001b[1m[\u001b[0m\u001b[34;49mnotice\u001b[0m\u001b[1;39;49m]\u001b[0m\u001b[39;49m To update, run: \u001b[0m\u001b[32;49mpip install --upgrade pip\u001b[0m\n",
      "Note: you may need to restart the kernel to use updated packages.\n"
     ]
    }
   ],
   "source": [
    "pip install openpyxl"
   ]
  },
  {
   "cell_type": "code",
   "execution_count": 6,
   "metadata": {},
   "outputs": [],
   "source": [
    "df = pd.read_excel(\"data.xlsx\")"
   ]
  },
  {
   "cell_type": "code",
   "execution_count": 7,
   "metadata": {},
   "outputs": [
    {
     "data": {
      "text/html": [
       "<div>\n",
       "<style scoped>\n",
       "    .dataframe tbody tr th:only-of-type {\n",
       "        vertical-align: middle;\n",
       "    }\n",
       "\n",
       "    .dataframe tbody tr th {\n",
       "        vertical-align: top;\n",
       "    }\n",
       "\n",
       "    .dataframe thead th {\n",
       "        text-align: right;\n",
       "    }\n",
       "</style>\n",
       "<table border=\"1\" class=\"dataframe\">\n",
       "  <thead>\n",
       "    <tr style=\"text-align: right;\">\n",
       "      <th></th>\n",
       "      <th>SiteId</th>\n",
       "      <th>JobNo</th>\n",
       "      <th>JobTitle</th>\n",
       "      <th>Position</th>\n",
       "      <th>LastApplyDate</th>\n",
       "      <th>Type</th>\n",
       "      <th>JobLocation</th>\n",
       "      <th>PublishDate</th>\n",
       "      <th>CreateDate</th>\n",
       "    </tr>\n",
       "  </thead>\n",
       "  <tbody>\n",
       "    <tr>\n",
       "      <th>0</th>\n",
       "      <td>60</td>\n",
       "      <td>211919</td>\n",
       "      <td>TEKNIK SERVIS</td>\n",
       "      <td>TEKNIK SERVIS</td>\n",
       "      <td>2024-12-14</td>\n",
       "      <td>Tam Zamanlı</td>\n",
       "      <td>Muğla</td>\n",
       "      <td>2024-11-14</td>\n",
       "      <td>2024-11-19 00:06:00</td>\n",
       "    </tr>\n",
       "    <tr>\n",
       "      <th>1</th>\n",
       "      <td>60</td>\n",
       "      <td>225513</td>\n",
       "      <td>MUHASEBE / FINANS GÖREVLISI</td>\n",
       "      <td>MUHASEBE / FINANS GÖREVLISI</td>\n",
       "      <td>2024-10-25</td>\n",
       "      <td>Tam Zamanlı</td>\n",
       "      <td>Muğla</td>\n",
       "      <td>2024-09-25</td>\n",
       "      <td>2024-11-19 00:06:00</td>\n",
       "    </tr>\n",
       "    <tr>\n",
       "      <th>2</th>\n",
       "      <td>60</td>\n",
       "      <td>289519</td>\n",
       "      <td>ELEKTRIK TEKNISYENI</td>\n",
       "      <td>ELEKTRIK TEKNISYENI</td>\n",
       "      <td>2024-10-25</td>\n",
       "      <td>Tam Zamanlı</td>\n",
       "      <td>Muğla</td>\n",
       "      <td>2024-09-25</td>\n",
       "      <td>2024-11-19 00:06:00</td>\n",
       "    </tr>\n",
       "    <tr>\n",
       "      <th>3</th>\n",
       "      <td>60</td>\n",
       "      <td>292417</td>\n",
       "      <td>VINÇ OPERATÖRÜ</td>\n",
       "      <td>VINÇ OPERATÖRÜ</td>\n",
       "      <td>2024-12-06</td>\n",
       "      <td>Tam Zamanlı</td>\n",
       "      <td>Muğla</td>\n",
       "      <td>2024-11-06</td>\n",
       "      <td>2024-11-19 00:06:00</td>\n",
       "    </tr>\n",
       "    <tr>\n",
       "      <th>4</th>\n",
       "      <td>60</td>\n",
       "      <td>292421</td>\n",
       "      <td>SOFÖR</td>\n",
       "      <td>SOFÖR</td>\n",
       "      <td>2024-12-06</td>\n",
       "      <td>Tam Zamanlı</td>\n",
       "      <td>Muğla</td>\n",
       "      <td>2024-11-06</td>\n",
       "      <td>2024-11-19 00:06:00</td>\n",
       "    </tr>\n",
       "  </tbody>\n",
       "</table>\n",
       "</div>"
      ],
      "text/plain": [
       "   SiteId   JobNo                     JobTitle                     Position  \\\n",
       "0      60  211919                TEKNIK SERVIS                TEKNIK SERVIS   \n",
       "1      60  225513  MUHASEBE / FINANS GÖREVLISI  MUHASEBE / FINANS GÖREVLISI   \n",
       "2      60  289519          ELEKTRIK TEKNISYENI          ELEKTRIK TEKNISYENI   \n",
       "3      60  292417              VINÇ OPERATÖRÜ               VINÇ OPERATÖRÜ    \n",
       "4      60  292421                        SOFÖR                        SOFÖR   \n",
       "\n",
       "  LastApplyDate         Type JobLocation PublishDate          CreateDate  \n",
       "0    2024-12-14  Tam Zamanlı       Muğla  2024-11-14 2024-11-19 00:06:00  \n",
       "1    2024-10-25  Tam Zamanlı       Muğla  2024-09-25 2024-11-19 00:06:00  \n",
       "2    2024-10-25  Tam Zamanlı       Muğla  2024-09-25 2024-11-19 00:06:00  \n",
       "3    2024-12-06  Tam Zamanlı       Muğla  2024-11-06 2024-11-19 00:06:00  \n",
       "4    2024-12-06  Tam Zamanlı       Muğla  2024-11-06 2024-11-19 00:06:00  "
      ]
     },
     "execution_count": 7,
     "metadata": {},
     "output_type": "execute_result"
    }
   ],
   "source": [
    "df.head()"
   ]
  },
  {
   "cell_type": "code",
   "execution_count": null,
   "metadata": {},
   "outputs": [],
   "source": []
  }
 ],
 "metadata": {
  "kernelspec": {
   "display_name": "Python 3 (ipykernel)",
   "language": "python",
   "name": "python3"
  },
  "language_info": {
   "codemirror_mode": {
    "name": "ipython",
    "version": 3
   },
   "file_extension": ".py",
   "mimetype": "text/x-python",
   "name": "python",
   "nbconvert_exporter": "python",
   "pygments_lexer": "ipython3",
   "version": "3.9.20"
  }
 },
 "nbformat": 4,
 "nbformat_minor": 4
}
