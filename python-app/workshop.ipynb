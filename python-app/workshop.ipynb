{
 "cells": [
  {
   "cell_type": "code",
   "execution_count": null,
   "metadata": {},
   "outputs": [],
   "source": [
    "import pandas as pd\n",
    "import pyodbc\n",
    "import time"
   ]
  },
  {
   "cell_type": "code",
   "execution_count": null,
   "metadata": {},
   "outputs": [],
   "source": [
    "pip install openpyxl"
   ]
  },
  {
   "cell_type": "code",
   "execution_count": 43,
   "metadata": {},
   "outputs": [],
   "source": [
    "df = pd.read_excel('data.xlsx')\n"
   ]
  },
  {
   "cell_type": "code",
   "execution_count": null,
   "metadata": {},
   "outputs": [],
   "source": [
    "df.head()"
   ]
  },
  {
   "cell_type": "code",
   "execution_count": null,
   "metadata": {},
   "outputs": [],
   "source": [
    "# TODO \n",
    "# Verileri sql database içerisine aktarıp analiz edelim.\n",
    "# Pozisyon bazlı yayınlanan iş ilanı \n",
    "# Gün bazlı yayınlanan iş ilanı \n",
    "# Lokasyon bazlı iş ilanı "
   ]
  },
  {
   "cell_type": "code",
   "execution_count": null,
   "metadata": {},
   "outputs": [],
   "source": [
    "# Bağlantı bilgileri\n",
    "server = 'localhost'\n",
    "database = 'TechcareerDB'\n",
    "username = 'sa'\n",
    "password = 'YourStrong!Passw0rd'\n",
    "driver = '{SQL Server}'  # Sürücü adını güncelledik\n",
    "schema = 'dbo'  # Şema bilgisi\n",
    "\n",
    "# Yüklü ODBC sürücülerini kontrol edelim\n",
    "print(\"Yüklü ODBC sürücüleri:\")\n",
    "print(pyodbc.drivers())\n"
   ]
  },
  {
   "cell_type": "code",
   "execution_count": null,
   "metadata": {},
   "outputs": [],
   "source": [
    "\n",
    "# Bağlantı dizesi\n",
    "conn_str = (\n",
    "    f'DRIVER={driver};'\n",
    "    f'SERVER={server};'\n",
    "    f'DATABASE={database};'\n",
    "    f'UID={username};'\n",
    "    f'PWD={password}'\n",
    ")\n",
    "\n",
    "# Bağlantıyı test etme\n",
    "try:\n",
    "    conn = pyodbc.connect(conn_str)\n",
    "    cursor = conn.cursor()\n",
    "    cursor.execute(\"SELECT @@VERSION;\")\n",
    "    version = cursor.fetchone()\n",
    "    print(f\"SQL Server bağlantısı başarılı. Sürüm: {version[0]}\")\n",
    "    cursor.close()\n",
    "    conn.close()\n",
    "except pyodbc.Error as e:\n",
    "    print(\"SQL Server'a bağlanılamadı.\")\n",
    "    print(\"Hata mesajı:\", e)\n",
    "    exit(1)"
   ]
  },
  {
   "cell_type": "code",
   "execution_count": 45,
   "metadata": {},
   "outputs": [],
   "source": [
    "\n",
    "# Bağlantıyı tekrar aç\n",
    "conn = pyodbc.connect(conn_str)\n",
    "cursor = conn.cursor()"
   ]
  },
  {
   "cell_type": "code",
   "execution_count": 46,
   "metadata": {},
   "outputs": [],
   "source": [
    "\n",
    "# Veritabanını oluştur (eğer yoksa)\n",
    "cursor.execute(f\"IF DB_ID(N'{database}') IS NULL CREATE DATABASE [{database}]\")\n",
    "cursor.commit()\n"
   ]
  },
  {
   "cell_type": "code",
   "execution_count": 49,
   "metadata": {},
   "outputs": [],
   "source": [
    "\n",
    "# Tablo adı ve tam tablo adı\n",
    "table_name = 'Jobs'\n",
    "full_table_name = f'[{schema}].[{table_name}]'\n",
    "\n",
    "# Sütun adları ve veri tiplerini belirleme\n",
    "columns_with_types = ', '.join([f'[{col}] NVARCHAR(MAX)' for col in df.columns])\n",
    "\n",
    "# Tabloyu oluştur (eğer yoksa)\n",
    "create_table_query = f'''\n",
    "IF OBJECT_ID(N'{schema}.{table_name}', N'U') IS NULL\n",
    "BEGIN\n",
    "    CREATE TABLE {full_table_name} (\n",
    "        {columns_with_types}\n",
    "    )\n",
    "END\n",
    "'''\n",
    "cursor.execute(create_table_query)\n",
    "cursor.commit()\n"
   ]
  },
  {
   "cell_type": "code",
   "execution_count": 50,
   "metadata": {},
   "outputs": [
    {
     "name": "stdout",
     "output_type": "stream",
     "text": [
      "Tarih sütunları: ['LastApplyDate', 'PublishDate', 'CreateDate']\n",
      "1-5000 arası satırlar eklenirken hata oluştu.\n",
      "Hata mesajı: ('22008', '[22008] [Microsoft][ODBC SQL Server Driver]Datetime field overflow (0) (SQLExecDirectW)')\n",
      "      SiteId     JobNo                        JobTitle  \\\n",
      "0         60    211919                   TEKNIK SERVIS   \n",
      "1         60    225513     MUHASEBE / FINANS GÖREVLISI   \n",
      "2         60    289519             ELEKTRIK TEKNISYENI   \n",
      "3         60    292417                 VINÇ OPERATÖRÜ    \n",
      "4         60    292421                           SOFÖR   \n",
      "...      ...       ...                             ...   \n",
      "4995       4  i4166391  Your connection is not private   \n",
      "4996       4  i4166397  Your connection is not private   \n",
      "4997       4  i4166403  Your connection is not private   \n",
      "4998       4  i4166409  Your connection is not private   \n",
      "4999       4  i4166415  Your connection is not private   \n",
      "\n",
      "                            Position       LastApplyDate         Type  \\\n",
      "0                      TEKNIK SERVIS 2024-12-14 00:00:00  Tam Zamanlı   \n",
      "1        MUHASEBE / FINANS GÖREVLISI 2024-10-25 00:00:00  Tam Zamanlı   \n",
      "2                ELEKTRIK TEKNISYENI 2024-10-25 00:00:00  Tam Zamanlı   \n",
      "3                    VINÇ OPERATÖRÜ  2024-12-06 00:00:00  Tam Zamanlı   \n",
      "4                              SOFÖR 2024-12-06 00:00:00  Tam Zamanlı   \n",
      "...                              ...                 ...          ...   \n",
      "4995  Your connection is not private 2025-02-17 02:59:00         None   \n",
      "4996  Your connection is not private 2025-02-17 02:59:00         None   \n",
      "4997  Your connection is not private 2025-02-17 02:59:00         None   \n",
      "4998  Your connection is not private 2025-02-17 02:59:00         None   \n",
      "4999  Your connection is not private 2025-02-17 02:59:00         None   \n",
      "\n",
      "     JobLocation PublishDate          CreateDate  \n",
      "0          Muğla  2024-11-14 2024-11-19 00:06:00  \n",
      "1          Muğla  2024-09-25 2024-11-19 00:06:00  \n",
      "2          Muğla  2024-09-25 2024-11-19 00:06:00  \n",
      "3          Muğla  2024-11-06 2024-11-19 00:06:00  \n",
      "4          Muğla  2024-11-06 2024-11-19 00:06:00  \n",
      "...          ...         ...                 ...  \n",
      "4995        None  1900-01-01 2024-11-19 02:56:00  \n",
      "4996        None  1900-01-01 2024-11-19 02:56:00  \n",
      "4997        None  1900-01-01 2024-11-19 02:56:00  \n",
      "4998        None  1900-01-01 2024-11-19 02:56:00  \n",
      "4999        None  1900-01-01 2024-11-19 02:56:00  \n",
      "\n",
      "[5000 rows x 9 columns]\n",
      "5001-10000 arası satırlar eklendi.\n"
     ]
    }
   ],
   "source": [
    "\n",
    "\n",
    "# DataFrame'deki NaN değerlerini None ile değiştiriyoruz\n",
    "df = df.where(pd.notnull(df), None)\n",
    "\n",
    "# Tarih sütunlarını belirleme\n",
    "date_columns = df.select_dtypes(include=['datetime', 'datetime64[ns]']).columns.tolist()\n",
    "print(\"Tarih sütunları:\", date_columns)\n",
    "\n",
    "\n",
    "# DataFrame'i SQL Server'a yazma (1000'lik parçalar halinde)\n",
    "columns = ', '.join([f'[{col}]' for col in df.columns])\n",
    "placeholders = ', '.join(['?' for _ in df.columns])\n",
    "insert_query = f'INSERT INTO {full_table_name} ({columns}) VALUES ({placeholders})'\n",
    "\n",
    "data = [tuple(row) for row in df.values]\n",
    "\n",
    "chunk_size = 5000  # Her seferinde 100 satır ekle\n",
    "total_rows = len(df)\n",
    "for start in range(0, 10000, chunk_size): #total_rows\n",
    "    end = min(start + chunk_size, total_rows)\n",
    "    chunk_df = df.iloc[start:end]\n",
    "    chunk_data = [tuple(row) for row in chunk_df.values]\n",
    "    try:\n",
    "        cursor.executemany(insert_query, chunk_data)\n",
    "        conn.commit()\n",
    "        print(f\"{start + 1}-{end} arası satırlar eklendi.\")\n",
    "    except pyodbc.Error as e:\n",
    "        print(f\"{start + 1}-{end} arası satırlar eklenirken hata oluştu.\")\n",
    "        print(\"Hata mesajı:\", e)\n",
    "        conn.rollback()\n",
    "        # Problemli satırları yazdırma\n",
    "        print(chunk_df)\n",
    "        exit(1)\n"
   ]
  },
  {
   "cell_type": "code",
   "execution_count": null,
   "metadata": {},
   "outputs": [],
   "source": [
    "conn_str = (\n",
    "    f\"DRIVER={driver};\"\n",
    "    f\"SERVER=localhost;\"\n",
    "    f\"DATABASE={database};\"\n",
    "    f\"UID={username};\"\n",
    "    f\"PWD={password}\"\n",
    ")\n"
   ]
  },
  {
   "cell_type": "code",
   "execution_count": null,
   "metadata": {},
   "outputs": [],
   "source": [
    "import time\n",
    "import pyodbc\n",
    "\n",
    "# Maksimum deneme sayısı ve bekleme süresi\n",
    "max_retries = 10\n",
    "wait_seconds = 5\n",
    "\n",
    "for attempt in range(max_retries):\n",
    "    try:\n",
    "        conn = pyodbc.connect(conn_str)\n",
    "        print(\"SQL Server'a başarılı bir şekilde bağlanıldı.\")\n",
    "        break\n",
    "    except pyodbc.Error as e:\n",
    "        print(f\"Bağlantı denemesi {attempt + 1}/{max_retries} başarısız oldu. Bekleniyor...\")\n",
    "        time.sleep(wait_seconds)\n",
    "else:\n",
    "    print(\"SQL Server'a bağlanılamadı. Lütfen ayarları kontrol edin.\")\n",
    "    exit(1)\n"
   ]
  },
  {
   "cell_type": "code",
   "execution_count": null,
   "metadata": {},
   "outputs": [],
   "source": []
  }
 ],
 "metadata": {
  "kernelspec": {
   "display_name": "Python 3",
   "language": "python",
   "name": "python3"
  },
  "language_info": {
   "codemirror_mode": {
    "name": "ipython",
    "version": 3
   },
   "file_extension": ".py",
   "mimetype": "text/x-python",
   "name": "python",
   "nbconvert_exporter": "python",
   "pygments_lexer": "ipython3",
   "version": "3.11.9"
  }
 },
 "nbformat": 4,
 "nbformat_minor": 4
}
